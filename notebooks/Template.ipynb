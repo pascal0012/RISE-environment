{
 "cells": [
  {
   "cell_type": "markdown",
   "id": "d580d9d5",
   "metadata": {
    "hide_input": false,
    "slideshow": {
     "slide_type": "slide"
    }
   },
   "source": [
    "# Presentation template\n",
    "Thomas Liebig - 2024"
   ]
  },
  {
   "cell_type": "code",
   "execution_count": 2,
   "id": "bdfc22e6",
   "metadata": {
    "hide_input": false,
    "slideshow": {
     "slide_type": "notes"
    }
   },
   "outputs": [
    {
     "data": {
      "text/html": [
       "<pre style=\"white-space:pre;overflow-x:auto;line-height:normal;font-family:Menlo,'DejaVu Sans Mono',consolas,'Courier New',monospace\">Manim Community <span style=\"color: #008000; text-decoration-color: #008000\">v0.18.0</span>\n",
       "\n",
       "</pre>\n"
      ],
      "text/plain": [
       "Manim Community \u001b[32mv0.\u001b[0m\u001b[32m18.0\u001b[0m\n",
       "\n"
      ]
     },
     "metadata": {},
     "output_type": "display_data"
    }
   ],
   "source": [
    "# load manim - for 3blue1brown styled animations\n",
    "from manim import *\n",
    "\n",
    "config.media_width = \"100%\"\n",
    "config.pixel_width = 200\n",
    "config.pixel_height = 200\n",
    "\n",
    "config.verbosity = \"CRITICAL\"\n",
    "\n",
    "# toggle warnings to omit them from slides\n",
    "import warnings\n",
    "warnings.filterwarnings('ignore')\n",
    "\n",
    "# load python packages\n",
    "import numpy as np"
   ]
  },
  {
   "cell_type": "markdown",
   "id": "bae87efa",
   "metadata": {
    "slideshow": {
     "slide_type": "slide"
    }
   },
   "source": [
    "<div class=\"alert alert-block alert-info\">\n",
    "<b>Tip:</b> These Notes are best read without code blocks. Run next cell and press button, to hide all code cells.\n",
    "</div>"
   ]
  },
  {
   "cell_type": "code",
   "execution_count": 7,
   "id": "7cffbc30",
   "metadata": {
    "hide_input": true
   },
   "outputs": [
    {
     "data": {
      "text/html": [
       "<script>\n",
       "code_show=true; \n",
       "function code_toggle() {\n",
       " if (code_show){\n",
       " $('div.input').hide();\n",
       " } else {\n",
       " $('div.input').show();\n",
       " }\n",
       " code_show = !code_show\n",
       "} \n",
       "$( document ).ready(code_toggle);\n",
       "</script>\n",
       "<form action=\"javascript:code_toggle()\"><input type=\"submit\" value=\"Click here to toggle on/off the code cells. (just working in jupyter notebook, not jupyterlab)\"></form>"
      ],
      "text/plain": [
       "<IPython.core.display.HTML object>"
      ]
     },
     "execution_count": 7,
     "metadata": {},
     "output_type": "execute_result"
    }
   ],
   "source": [
    "# hide input cells\n",
    "# copied from https://stackoverflow.com/questions/27934885/how-to-hide-code-from-cells-in-ipython-notebook-visualized-with-nbviewer#answer-28073228\n",
    "from IPython.display import HTML\n",
    "HTML('''<script>\n",
    "code_show=true; \n",
    "function code_toggle() {\n",
    " if (code_show){\n",
    " $('div.input').hide();\n",
    " } else {\n",
    " $('div.input').show();\n",
    " }\n",
    " code_show = !code_show\n",
    "} \n",
    "$( document ).ready(code_toggle);\n",
    "</script>\n",
    "<form action=\"javascript:code_toggle()\"><input type=\"submit\" value=\"Click here to toggle on/off the code cells. (just working in jupyter notebook, not jupyterlab)\"></form>''')"
   ]
  },
  {
   "cell_type": "markdown",
   "id": "a22aee69",
   "metadata": {
    "slideshow": {
     "slide_type": "slide"
    }
   },
   "source": [
    "## Data Science as a Catalyst in Physical Process Investigations"
   ]
  },
  {
   "cell_type": "markdown",
   "id": "791ac9e9",
   "metadata": {
    "slideshow": {
     "slide_type": "subslide"
    }
   },
   "source": [
    "### Origin of Data\n",
    "* observe physical processes (in real world)\n",
    "* By observation, we make measurements, represented in some (mathematical) space \n",
    "  ($\\mathbb{B}$, $\\mathbb{Z}$, $\\mathbb{N}$, $\\mathbb{Q}$, vectors, graphs, strings, $\\ldots$ tuples, compounds, images, sounds, $\\ldots$)"
   ]
  },
  {
   "cell_type": "markdown",
   "id": "dff6e8af",
   "metadata": {
    "slideshow": {
     "slide_type": "fragment"
    }
   },
   "source": [
    "* Data is partial representation of a snapshot (only valid for specific space, time)\n",
    "* Observation, eventually is invasive and changes physical process"
   ]
  },
  {
   "cell_type": "markdown",
   "id": "44b84cda",
   "metadata": {
    "slideshow": {
     "slide_type": "subslide"
    }
   },
   "source": [
    "### Flow and Density of moving objects (manim)"
   ]
  },
  {
   "cell_type": "code",
   "execution_count": 3,
   "id": "ba463409",
   "metadata": {
    "hide_input": true
   },
   "outputs": [
    {
     "data": {
      "text/html": [
       "<video src=\"media/jupyter/CorridorScene@2024-04-03@14-08-57.mp4\" controls autoplay loop style=\"max-width: 100%;\"  >\n",
       "      Your browser does not support the <code>video</code> element.\n",
       "    </video>"
      ],
      "text/plain": [
       "<IPython.core.display.Video object>"
      ]
     },
     "metadata": {},
     "output_type": "display_data"
    }
   ],
   "source": [
    "%%manim -v WARNING --disable_caching --progress_bar None -qm CorridorScene\n",
    "\n",
    "from manim import config as global_config\n",
    "config = global_config.copy()\n",
    "myTemplate = TexTemplate()\n",
    "myTemplate.add_to_preamble(r\"\\usepackage{mathrsfs}\")\n",
    "myTemplate.add_to_preamble(r\"\\usepackage[sfmath,lighttext]{kpfonts}\")\n",
    "myTemplate.add_to_preamble(r\"\\usepackage{amsmath,MnSymbol,wasysym}\")  \n",
    "config[\"tex_template\"] = myTemplate\n",
    "config.tex_template=myTemplate\n",
    "\n",
    "from manim import *\n",
    "\n",
    "class CorridorScene(Scene):\n",
    "    def construct(self):\n",
    "        # Create a corridor\n",
    "        self.camera.background_color = \"#0c122b\"\n",
    "        corridor = Rectangle(width=10, height=3, color=WHITE)\n",
    "        self.add(corridor)\n",
    "\n",
    "    \n",
    "        # Highlight the density measurement area\n",
    "        density_area = Rectangle(width=1, height=3).set_color(\"#E82E82\").move_to(corridor.get_center())\n",
    "        density_area.set_fill(\"#E82E82\",opacity=.6)\n",
    "        self.add(density_area)\n",
    "\n",
    "        # Highlight the flow measurement line\n",
    "        flow_line = Line(UP, DOWN).next_to(density_area, RIGHT, buff=0).shift(RIGHT*2)\n",
    "        flow_line.set_color(\"#E82E82\")\n",
    "        self.add(flow_line)\n",
    "        \n",
    "        # LaTeX annotations\n",
    "        flow_annotation = MathTex(r\"\\mathsf{q(x,t)= \\frac{\\#obj}{\\Delta t}}\").next_to(flow_line, UP *2.5)\n",
    "        density_annotation = MathTex(r\"\\mathsf{\\rho(x,t) = \\frac{\\#obj}{\\Delta x}}\").next_to(density_area, DOWN)\n",
    "        self.add(flow_annotation, density_annotation)\n",
    "        \n",
    "        # Add moving points\n",
    "        points = [Dot().set_color(\"#009EE3\").move_to(corridor.get_left() + RIGHT * i) for i in range(1, 10)]\n",
    "        self.add(*points)\n",
    "\n",
    "        # Animate points moving through the corridor\n",
    "        self.play(*[ApplyMethod(point.shift, RIGHT * 9, rate_func=linear) for point in points])\n",
    "\n",
    "\n",
    "        # Keep the scene static for a few seconds\n",
    "        # self.wait(3)\n"
   ]
  },
  {
   "cell_type": "markdown",
   "id": "c05d9899",
   "metadata": {
    "slideshow": {
     "slide_type": "slide"
    }
   },
   "source": [
    "### Data Models pose Assumptions on Physical Process (Eqn)\n",
    "\n",
    "* Conservation law $\\rho_t(x,t)+q_x(x,t)=0$\n",
    "* Balance of momentum\n",
    "* Markov Assumption\n",
    "* Tobler's Law"
   ]
  },
  {
   "cell_type": "markdown",
   "id": "bd32900c",
   "metadata": {
    "cell_style": "split",
    "slideshow": {
     "slide_type": "subslide"
    }
   },
   "source": [
    "e.g. Burgers Turbulence\n",
    "$$\\frac{\\partial \\rho}{\\partial t} + \\frac{\\partial (\\rho v)}{\\partial x} = 0$$"
   ]
  },
  {
   "cell_type": "markdown",
   "id": "4dfc523d",
   "metadata": {
    "cell_style": "split"
   },
   "source": [
    "Navier Stokes Equations\n",
    "\n",
    "$$\\rho \\left(\\frac{\\partial \\mathbf{v}}{\\partial t} + \\mathbf{v} \\cdot \\nabla \\mathbf{v}\\right) = -\\nabla p + \\mu \\nabla^2 \\mathbf{v} + \\mathbf{f}$$\n"
   ]
  },
  {
   "cell_type": "code",
   "execution_count": 6,
   "id": "8d31fe45",
   "metadata": {
    "slideshow": {
     "slide_type": "notes"
    }
   },
   "outputs": [
    {
     "name": "stdout",
     "output_type": "stream",
     "text": [
      "Hello, from Linux!\r\n"
     ]
    }
   ],
   "source": [
    "!echo \"Hello, from Linux!\""
   ]
  }
 ],
 "metadata": {
  "celltoolbar": "Slideshow",
  "kernelspec": {
   "display_name": "Python 3 (ipykernel)",
   "language": "python",
   "name": "python3"
  },
  "language_info": {
   "codemirror_mode": {
    "name": "ipython",
    "version": 3
   },
   "file_extension": ".py",
   "mimetype": "text/x-python",
   "name": "python",
   "nbconvert_exporter": "python",
   "pygments_lexer": "ipython3",
   "version": "3.8.10"
  },
  "rise": {
   "autolaunch": true
  },
  "toc": {
   "base_numbering": 1,
   "nav_menu": {},
   "number_sections": true,
   "sideBar": true,
   "skip_h1_title": false,
   "title_cell": "Table of Contents",
   "title_sidebar": "Contents",
   "toc_cell": false,
   "toc_position": {},
   "toc_section_display": true,
   "toc_window_display": false
  }
 },
 "nbformat": 4,
 "nbformat_minor": 5
}
